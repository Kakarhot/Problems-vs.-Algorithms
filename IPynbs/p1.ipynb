{
 "cells": [
  {
   "cell_type": "code",
   "execution_count": 2,
   "metadata": {},
   "outputs": [],
   "source": [
    "import math"
   ]
  },
  {
   "cell_type": "code",
   "execution_count": 14,
   "metadata": {},
   "outputs": [],
   "source": [
    "def sqrt(number):\n",
    "    \"\"\"\n",
    "    Calculate the floored square root of a number\n",
    "\n",
    "    Args:\n",
    "       number(int): Number to find the floored squared root\n",
    "    Returns:\n",
    "       int: Floored Square Root\n",
    "    \"\"\"\n",
    "    if number == 0 or number == 1:\n",
    "        return number\n",
    "    \n",
    "    start = 1\n",
    "    end = number\n",
    "    while start <= end:\n",
    "        mid = (start + end) // 2\n",
    "        if mid * mid == number:\n",
    "            return mid\n",
    "        elif mid * mid < number:\n",
    "            start = mid + 1      \n",
    "            ans = mid\n",
    "        else:\n",
    "            end = mid - 1\n",
    "    return ans"
   ]
  },
  {
   "cell_type": "code",
   "execution_count": 15,
   "metadata": {},
   "outputs": [
    {
     "data": {
      "text/plain": [
       "3"
      ]
     },
     "execution_count": 15,
     "metadata": {},
     "output_type": "execute_result"
    }
   ],
   "source": [
    "sqrt(11) "
   ]
  },
  {
   "cell_type": "code",
   "execution_count": null,
   "metadata": {},
   "outputs": [],
   "source": [
    "print (\"Pass\" if  (3 == sqrt(9)) else \"Fail\")\n",
    "print (\"Pass\" if  (0 == sqrt(0)) else \"Fail\")\n",
    "print (\"Pass\" if  (4 == sqrt(16)) else \"Fail\")\n",
    "print (\"Pass\" if  (1 == sqrt(1)) else \"Fail\")\n",
    "print (\"Pass\" if  (5 == sqrt(27)) else \"Fail\")"
   ]
  }
 ],
 "metadata": {
  "kernelspec": {
   "display_name": "Python 3",
   "language": "python",
   "name": "python3"
  },
  "language_info": {
   "codemirror_mode": {
    "name": "ipython",
    "version": 3
   },
   "file_extension": ".py",
   "mimetype": "text/x-python",
   "name": "python",
   "nbconvert_exporter": "python",
   "pygments_lexer": "ipython3",
   "version": "3.7.5"
  }
 },
 "nbformat": 4,
 "nbformat_minor": 2
}
