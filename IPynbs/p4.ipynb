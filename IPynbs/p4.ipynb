{
 "cells": [
  {
   "cell_type": "code",
   "execution_count": 15,
   "metadata": {},
   "outputs": [],
   "source": [
    "def sort_012(input_list):\n",
    "    \"\"\"\n",
    "    Given an input array consisting on only 0, 1, and 2, sort the array in a single traversal.\n",
    "\n",
    "    Args:\n",
    "       input_list(list): List to be sorted\n",
    "    \"\"\"\n",
    "    next_0 = 0\n",
    "    next_2 = len(input_list) - 1\n",
    "    front_index = 0\n",
    "    while front_index <= next_2:\n",
    "        if input_list[front_index] == 0:\n",
    "            input_list[front_index] = input_list[next_0]\n",
    "            input_list[next_0] = 0\n",
    "            next_0 += 1\n",
    "            front_index += 1\n",
    "            \n",
    "        elif input_list[front_index] == 2:\n",
    "            input_list[front_index] = input_list[next_2]\n",
    "            input_list[next_2] = 2\n",
    "            next_2 -= 1\n",
    "        \n",
    "        else:\n",
    "            front_index += 1\n",
    "    \n",
    "    return input_list"
   ]
  },
  {
   "cell_type": "code",
   "execution_count": 16,
   "metadata": {},
   "outputs": [
    {
     "data": {
      "text/plain": [
       "[0, 0, 0, 1, 1, 1, 2, 2, 2, 2, 2]"
      ]
     },
     "execution_count": 16,
     "metadata": {},
     "output_type": "execute_result"
    }
   ],
   "source": [
    "sort_012([0, 0, 2, 2, 2, 1, 1, 1, 2, 0, 2])"
   ]
  },
  {
   "cell_type": "code",
   "execution_count": 17,
   "metadata": {},
   "outputs": [
    {
     "name": "stdout",
     "output_type": "stream",
     "text": [
      "[0, 0, 0, 1, 1, 1, 2, 2, 2, 2, 2]\n",
      "Pass\n",
      "[0, 0, 0, 0, 0, 0, 0, 0, 0, 0, 0, 1, 1, 1, 1, 1, 1, 2, 2, 2, 2, 2, 2, 2, 2, 2]\n",
      "Pass\n",
      "[0, 0, 0, 0, 0, 0, 1, 1, 1, 1, 1, 1, 2, 2, 2, 2, 2, 2, 2]\n",
      "Pass\n"
     ]
    }
   ],
   "source": [
    "def test_function(test_case):\n",
    "    sorted_array = sort_012(test_case)\n",
    "    print(sorted_array)\n",
    "    if sorted_array == sorted(test_case):\n",
    "        print(\"Pass\")\n",
    "    else:\n",
    "        print(\"Fail\")\n",
    "\n",
    "test_function([0, 0, 2, 2, 2, 1, 1, 1, 2, 0, 2])\n",
    "test_function([2, 1, 2, 0, 0, 2, 1, 0, 1, 0, 0, 2, 2, 2, 1, 2, 0, 0, 0, 2, 1, 0, 2, 0, 0, 1])\n",
    "test_function([0, 0, 0, 0, 0, 0, 1, 1, 1, 1, 1, 1, 2, 2, 2, 2, 2, 2, 2])"
   ]
  },
  {
   "cell_type": "code",
   "execution_count": null,
   "metadata": {},
   "outputs": [],
   "source": []
  }
 ],
 "metadata": {
  "kernelspec": {
   "display_name": "Python 3",
   "language": "python",
   "name": "python3"
  },
  "language_info": {
   "codemirror_mode": {
    "name": "ipython",
    "version": 3
   },
   "file_extension": ".py",
   "mimetype": "text/x-python",
   "name": "python",
   "nbconvert_exporter": "python",
   "pygments_lexer": "ipython3",
   "version": "3.7.5"
  }
 },
 "nbformat": 4,
 "nbformat_minor": 2
}
